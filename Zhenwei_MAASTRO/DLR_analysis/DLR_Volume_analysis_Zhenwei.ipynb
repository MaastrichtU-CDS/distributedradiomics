{
 "cells": [
  {
   "cell_type": "code",
   "execution_count": 24,
   "metadata": {
    "collapsed": true
   },
   "outputs": [],
   "source": [
    "# Basic packagess\n",
    "import pandas as pd\n",
    "import numpy as np\n",
    "from scipy import stats \n",
    "# Results visualization\n",
    "import matplotlib.pyplot as plt\n",
    "import seaborn as sns\n",
    "# lifelines\n",
    "from lifelines.datasets import load_waltons\n",
    "from lifelines import CoxPHFitter,KaplanMeierFitter\n",
    "from lifelines.utils import concordance_index\n",
    "from lifelines.statistics import logrank_test\n",
    "from sklearn.preprocessing import  StandardScaler, MinMaxScaler, RobustScaler\n",
    "\n",
    "def confidence_interval(stats,alpha):\n",
    "    # confidence intervals\n",
    "    p = ((1.0-alpha)/2.0) * 100\n",
    "    lower = max(0.0, np.percentile(stats, p))\n",
    "    p = (alpha+((1.0-alpha)/2.0)) * 100\n",
    "    upper = min(1.0, np.percentile(stats, p))\n",
    "    print('%.1f confidence interval %.1f%% and %.1f%%' % (alpha*100, lower*100, upper*100))\n",
    "    \n",
    "all_predictors = [\n",
    "    \"original_firstorder_Energy\",\n",
    "    \"original_shape_Compactness\",\n",
    "    \"original_glrlm_GrayLevelNonUniformity\",\n",
    "    \"wavelet-HLH_glrlm_GrayLevelNonUniformity\",\n",
    "    \"original_shape_Volume\"]\n",
    "\n",
    "hugo_predictors = [\n",
    "    \"original_firstorder_Energy\",\n",
    "    \"original_shape_Compactness\",\n",
    "    \"original_glrlm_GrayLevelNonUniformity\",\n",
    "    \"wavelet-HLH_glrlm_GrayLevelNonUniformity\"]\n",
    "hugo_volume = [\"original_shape_Volume\"]\n",
    "\n",
    "hugo_outcome = [\"Survival.time\"]\n",
    "\n",
    "df1_radiomics= pd.read_csv('./data/raw_GTV-1_only.csv')\n",
    "df1_clinical = pd.read_csv('./data/Lung1.clinical_Updated_Len.csv')\n",
    "df1_merge = df1_radiomics.merge(df1_clinical,on = \"patient_id\")\n",
    "df1_merge['original_shape_Sphericity'] = df1_merge['original_shape_Sphericity'] **3\n",
    "df1_merge = df1_merge.rename(index=str,columns={'original_shape_Sphericity':'original_shape_Compactness'})\n",
    "# dflung1 = df1_merge[hugo_used]\n",
    "df1_merge = df1_merge.rename(index=str,columns={'Updated.Survival.time':'Survival.time'})\n",
    "df1_merge = df1_merge.rename(index=str,columns={'Updated.deadstatus.event':'deadstatus.event'})\n",
    "\n",
    "dflung2 = pd.read_csv('./data/Lung2.clinical_radiomics_GTV_ZW.csv')\n",
    "dflung2['original_shape_Sphericity'] = dflung2['original_shape_Sphericity'] **3\n",
    "dflung2 = dflung2.rename(index=str,columns={'original_shape_Sphericity':'original_shape_Compactness'})"
   ]
  },
  {
   "cell_type": "markdown",
   "metadata": {},
   "source": [
    "### No pre-processing, spearman correlation of 5 features"
   ]
  },
  {
   "cell_type": "code",
   "execution_count": 25,
   "metadata": {
    "collapsed": false
   },
   "outputs": [],
   "source": [
    "# df1 = df1_merge[all_predictors]\n",
    "# df2 = dflung2[all_predictors]\n",
    "# plt.figure(figsize = (10,8))\n",
    "# corr1 = df1.corr(method='spearman', min_periods=1)\n",
    "# ax1=sns.heatmap(corr1,annot=True)\n",
    "# # corr2 = df2.corr(method='spearman', min_periods=1)\n",
    "# # ax2=sns.heatmap(corr2,annot=True)\n",
    "# # plt.savefig('./DLR_result/DLR_Volume/DLR_FeatureCorr_lung1.pdf')\n",
    "# # plt.savefig('./DLR_result/DLR_Volume/DLR_FeatureCorr_lung2')\n",
    "# plt.show()"
   ]
  },
  {
   "cell_type": "markdown",
   "metadata": {},
   "source": [
    "## Data transformation and normalization"
   ]
  },
  {
   "cell_type": "code",
   "execution_count": 26,
   "metadata": {
    "collapsed": false
   },
   "outputs": [],
   "source": [
    "df1_merge[all_predictors] = np.log10(df1_merge[all_predictors])\n",
    "dflung2[all_predictors] = np.log10(dflung2[all_predictors])\n",
    "\n",
    "# pre-processing\n",
    "# all features are normalized by using z-score normalization\n",
    "dflung1_f = df1_merge[all_predictors]\n",
    "dflung2_f = dflung2[all_predictors]\n",
    "\n",
    "dflung2[all_predictors] = (dflung2[all_predictors] - dflung2_f.mean(axis=0)) / (dflung2_f.std(axis=0, ddof=0))\n",
    "# dflung2[all_predictors] = (dflung2[all_predictors] - dflung1_f.mean(axis=0)) / (dflung1_f.std(axis=0, ddof=0))\n",
    "df1_merge[all_predictors] = (df1_merge[all_predictors] - dflung1_f.mean(axis=0)) / (dflung1_f.std(axis=0, ddof=0))"
   ]
  },
  {
   "cell_type": "markdown",
   "metadata": {},
   "source": [
    "## Convert survival time to binary (0/1)"
   ]
  },
  {
   "cell_type": "code",
   "execution_count": 27,
   "metadata": {
    "collapsed": true
   },
   "outputs": [],
   "source": [
    "dflung1_train = df1_merge[hugo_predictors]\n",
    "bool_lung1 = df1_merge[hugo_outcome]>=365*2 \n",
    "TwoyearS_Lung1 = bool_lung1*1\n",
    "dflung2_validation = dflung2[hugo_predictors]\n",
    "bool_lung2 = dflung2[hugo_outcome]>=365*2 \n",
    "TwoyearS_Lung2 = bool_lung2*1"
   ]
  },
  {
   "cell_type": "code",
   "execution_count": 28,
   "metadata": {
    "collapsed": false
   },
   "outputs": [],
   "source": [
    "# np.mean(df1_merge[all_predictors])"
   ]
  },
  {
   "cell_type": "code",
   "execution_count": 29,
   "metadata": {
    "collapsed": false
   },
   "outputs": [],
   "source": [
    "import sklearn.linear_model\n",
    "from sklearn.model_selection import train_test_split\n",
    "from sklearn.linear_model import LogisticRegression\n",
    "from sklearn.metrics import classification_report\n",
    "from sklearn.metrics import accuracy_score\n",
    "from sklearn.preprocessing import StandardScaler\n",
    "from sklearn.metrics import roc_auc_score\n",
    "from sklearn.metrics import auc\n",
    "from sklearn import metrics\n",
    "from sklearn.preprocessing import StandardScaler\n",
    "from sklearn.svm import SVC\n",
    "from sklearn import cross_validation\n",
    "from sklearn.model_selection import cross_val_score\n",
    "from sklearn.metrics import roc_curve, auc\n",
    "from sklearn.model_selection import StratifiedKFold\n",
    "import warnings\n",
    "from scipy import interp\n",
    "warnings.simplefilter('ignore')"
   ]
  },
  {
   "cell_type": "markdown",
   "metadata": {
    "collapsed": true
   },
   "source": [
    "## 2-year survival classification using 4-feature signature"
   ]
  },
  {
   "cell_type": "code",
   "execution_count": 30,
   "metadata": {
    "collapsed": false
   },
   "outputs": [
    {
     "data": {
      "image/png": "[encoded data removed]",
      "text/plain": [
       "<matplotlib.figure.Figure at 0x13463fd0>"
      ]
     },
     "metadata": {},
     "output_type": "display_data"
    }
   ],
   "source": [
    "classifier = LogisticRegression()\n",
    "classifier.fit(dflung1_train,TwoyearS_Lung1)\n",
    "probs_train = classifier.predict_proba(dflung1_train)\n",
    "preds_train = probs_train[:,1]\n",
    "fpr_train, tpr_train, threshold_train = metrics.roc_curve(TwoyearS_Lung1, preds_train)\n",
    "roc_auc_train = metrics.auc(fpr_train, tpr_train)\n",
    "\n",
    "# ------------------bootstrap 1000 times\n",
    "# V_outcome_bs = pd.concat([dflung2_validation,TwoyearS_Lung2],axis=1)\n",
    "# n_bs = 1000 \n",
    "# n_sample = validation.shape[0]\n",
    "# AUC_Vbs = []\n",
    "# for i in range(n_bs):\n",
    "#     validation_bs = V_outcome_bs.sample(n_sample,replace=True)\n",
    "#     validation_predictor_bs = validation_bs[hugo_predictors]\n",
    "#     TwoyearS_lung2bs = validation_bs[hugo_outcome]\n",
    "#     probs_Vbs = classifier.predict_proba(validation_predictor_bs)\n",
    "#     preds_Vbs = probs_Vbs[:,1]\n",
    "#     fpr_Vbs, tpr_Vbs, threshold_Vbs = metrics.roc_curve(TwoyearS_lung2bs, preds_Vbs)\n",
    "#     roc_auc_Vbs = metrics.auc(fpr_Vbs, tpr_Vbs)\n",
    "#     AUC_Vbs.append(roc_auc_Vbs)\n",
    "# AUC_Vbs\n",
    "# print(np.mean(AUC_Vbs))\n",
    "# alpha = 0.95\n",
    "# confidence_interval(AUC_Vbs,alpha)\n",
    "\n",
    "probs_validation = classifier.predict_proba(dflung2_validation)\n",
    "preds_validation = probs_validation[:,1]\n",
    "fpr_validation, tpr_validation, threshold_validation = metrics.roc_curve(TwoyearS_Lung2, preds_validation)\n",
    "roc_auc_validation = metrics.auc(fpr_validation, tpr_validation)\n",
    "\n",
    "# method I: plt\n",
    "import matplotlib.pyplot as plt\n",
    "plt.figure(figsize = (10,8))\n",
    "plt.title('ROC of 2-year survival classification by signature')\n",
    "plt.plot(fpr_train, tpr_train, 'b', label = 'Training AUC = %0.2f' % roc_auc_train)\n",
    "plt.plot(fpr_validation, tpr_validation, 'r', label = 'Validation AUC = %0.2f' % roc_auc_validation)\n",
    "plt.legend(loc = 'lower right')\n",
    "plt.plot([0, 1], [0, 1],'k--')\n",
    "plt.xlim([-0.02, 1.02])\n",
    "plt.ylim([-0.02, 1.02])\n",
    "plt.ylabel('True Positive Rate')\n",
    "plt.xlabel('False Positive Rate')\n",
    "# plt.savefig('./DLR_result/DLR_Volume/DLR_TwoyearS_signature.pdf')\n",
    "plt.show()"
   ]
  },
  {
   "cell_type": "code",
   "execution_count": null,
   "metadata": {
    "collapsed": false
   },
   "outputs": [],
   "source": []
  },
  {
   "cell_type": "markdown",
   "metadata": {},
   "source": [
    "## 2-year survival classification using Volume only"
   ]
  },
  {
   "cell_type": "code",
   "execution_count": 107,
   "metadata": {
    "collapsed": false
   },
   "outputs": [
    {
     "data": {
      "text/plain": [
       "<matplotlib.text.Text at 0x1384e198>"
      ]
     },
     "execution_count": 107,
     "metadata": {},
     "output_type": "execute_result"
    }
   ],
   "source": [
    "Train = df1_merge[hugo_volume]\n",
    "validation =dflung2[hugo_volume]\n",
    "V_outcome_bs = pd.concat([validation,TwoyearS_Lung2],axis=1)\n",
    "\n",
    "classifier = LogisticRegression()\n",
    "classifier.fit(Train,TwoyearS_Lung1)\n",
    "probs_train = classifier.predict_proba(Train)\n",
    "preds_train = probs_train[:,1]\n",
    "fpr_train, tpr_train, threshold_train = metrics.roc_curve(TwoyearS_Lung1, preds_train)\n",
    "roc_auc_train = metrics.auc(fpr_train, tpr_train)\n",
    "\n",
    "# ------------------bootstrap 1000 times\n",
    "# n_bs = 1000 \n",
    "# n_sample = validation.shape[0]\n",
    "# AUC_Vbs = []\n",
    "# for i in range(n_bs):\n",
    "#     validation_bs = V_outcome_bs.sample(n_sample,replace=True)\n",
    "#     validation_predictor_bs = validation_bs[hugo_volume]\n",
    "#     TwoyearS_lung2bs = validation_bs[hugo_outcome]\n",
    "#     probs_Vbs = classifier.predict_proba(validation_predictor_bs)\n",
    "#     preds_Vbs = probs_Vbs[:,1]\n",
    "#     fpr_Vbs, tpr_Vbs, threshold_Vbs = metrics.roc_curve(TwoyearS_lung2bs, preds_Vbs)\n",
    "#     roc_auc_Vbs = metrics.auc(fpr_Vbs, tpr_Vbs)\n",
    "#     AUC_Vbs.append(roc_auc_Vbs)\n",
    "# AUC_Vbs\n",
    "# print(np.mean(AUC_Vbs))\n",
    "# alpha = 0.95\n",
    "# confidence_interval(AUC_Vbs,alpha)\n",
    "\n",
    "# --------------------------------------\n",
    "probs_validation = classifier.predict_proba(validation)\n",
    "preds_validation = probs_validation[:,1]\n",
    "fpr_validation, tpr_validation, threshold_validation = metrics.roc_curve(TwoyearS_Lung2, preds_validation)\n",
    "roc_auc_validation = metrics.auc(fpr_validation, tpr_validation)\n",
    "\n",
    "# method I: plt\n",
    "import matplotlib.pyplot as plt\n",
    "plt.figure(figsize = (10,8))\n",
    "plt.title('ROC of 2-year survival classification by Volume')\n",
    "plt.plot(fpr_train, tpr_train, 'b', label = 'Training AUC = %0.2f' % roc_auc_train)\n",
    "plt.plot(fpr_validation, tpr_validation, 'r', label = 'Validation AUC = %0.2f' % roc_auc_validation)\n",
    "plt.legend(loc = 'lower right')\n",
    "plt.plot([0, 1], [0, 1],'k--')\n",
    "plt.xlim([-0.02, 1.02])\n",
    "plt.ylim([-0.02, 1.02])\n",
    "plt.ylabel('True Positive Rate')\n",
    "plt.xlabel('False Positive Rate')\n",
    "# plt.savefig('./DLR_result/DLR_Volume/DLR_TwoyearS_Volume.pdf')\n",
    "# plt.show()"
   ]
  }
 ],
 "metadata": {
  "kernelspec": {
   "display_name": "Python [conda env:python3]",
   "language": "python",
   "name": "conda-env-python3-py"
  },
  "language_info": {
   "codemirror_mode": {
    "name": "ipython",
    "version": 3
   },
   "file_extension": ".py",
   "mimetype": "text/x-python",
   "name": "python",
   "nbconvert_exporter": "python",
   "pygments_lexer": "ipython3",
   "version": "3.6.2"
  }
 },
 "nbformat": 4,
 "nbformat_minor": 2
}
